{
 "cells": [
  {
   "cell_type": "code",
   "execution_count": 10,
   "id": "555e19c2",
   "metadata": {},
   "outputs": [
    {
     "name": "stdout",
     "output_type": "stream",
     "text": [
      "Collecting vobject\n",
      "  Downloading vobject-0.9.6.1.tar.gz (58 kB)\n",
      "     ---------------------------------------- 0.0/58.6 kB ? eta -:--:--\n",
      "     ------------- ------------------------ 20.5/58.6 kB 682.7 kB/s eta 0:00:01\n",
      "     --------------------------------- ---- 51.2/58.6 kB 525.1 kB/s eta 0:00:01\n",
      "     -------------------------------------- 58.6/58.6 kB 619.4 kB/s eta 0:00:00\n",
      "  Preparing metadata (setup.py): started\n",
      "  Preparing metadata (setup.py): finished with status 'done'\n",
      "Requirement already satisfied: python-dateutil>=2.4.0 in c:\\users\\felip\\anaconda3\\lib\\site-packages (from vobject) (2.8.2)\n",
      "Requirement already satisfied: six>=1.5 in c:\\users\\felip\\anaconda3\\lib\\site-packages (from python-dateutil>=2.4.0->vobject) (1.16.0)\n",
      "Building wheels for collected packages: vobject\n",
      "  Building wheel for vobject (setup.py): started\n",
      "  Building wheel for vobject (setup.py): finished with status 'done'\n",
      "  Created wheel for vobject: filename=vobject-0.9.6.1-py3-none-any.whl size=47699 sha256=83eef1c8bf2ab1fe1a99389e6d9da3fffc48eb3aeeb01fb0c3511746f5f9969d\n",
      "  Stored in directory: c:\\users\\felip\\appdata\\local\\pip\\cache\\wheels\\4a\\a7\\50\\c265cf99e282022b62b966a04ff8802603d70c87c26030e473\n",
      "Successfully built vobject\n",
      "Installing collected packages: vobject\n",
      "Successfully installed vobject-0.9.6.1\n"
     ]
    }
   ],
   "source": [
    "#pip install qrcode[pil]\n",
    "#!pip install qrcode\n",
    "#!pip install vobject"
   ]
  },
  {
   "cell_type": "code",
   "execution_count": 7,
   "id": "5d327b97",
   "metadata": {},
   "outputs": [],
   "source": [
    "# QR-code para site"
   ]
  },
  {
   "cell_type": "code",
   "execution_count": 1,
   "id": "4ee556c9",
   "metadata": {},
   "outputs": [],
   "source": [
    "import qrcode\n",
    "\n",
    "# Dados que você quer codificar no QR code\n",
    "dados = \"https://www.gov.br/fnde\"\n",
    "\n",
    "# Cria o QR code\n",
    "qr = qrcode.QRCode(\n",
    "    version=1,\n",
    "    error_correction=qrcode.constants.ERROR_CORRECT_L,\n",
    "    box_size=10,\n",
    "    border=4,\n",
    ")\n",
    "\n",
    "qr.add_data(dados)\n",
    "qr.make(fit=True)\n",
    "\n",
    "# Cria uma imagem do QR code usando a biblioteca Pillow (PIL)\n",
    "img = qr.make_image(fill_color=\"black\", back_color=\"white\")\n",
    "\n",
    "# Salva a imagem em um arquivo\n",
    "img.save(\"qr_code.png\")"
   ]
  },
  {
   "cell_type": "code",
   "execution_count": 5,
   "id": "8f78314a",
   "metadata": {},
   "outputs": [],
   "source": [
    "# Informações de contato\n",
    "nome = \"João da Silva\"\n",
    "cargo = \"CEO\"\n",
    "empresa = \"Empresa XYZ\"\n",
    "telefone = \"+55 11 1234-5678\"\n",
    "email = \"joao.silva@empresa.com\"\n",
    "endereco = \"Rua das Flores, 123, Cidade, Estado\"\n",
    "\n",
    "# Criando o conteúdo do vCard\n",
    "vcard = f\"BEGIN:VCARD\\nVERSION:3.0\\nN:{nome}\\nORG:{empresa}\\nTITLE:{cargo}\\nTEL:{telefone}\\nEMAIL:{email}\\nADR:{endereco}\\nEND:VCARD\"\n",
    "\n",
    "# Criando o QR code a partir do vCard\n",
    "qr = qrcode.QRCode(\n",
    "    version=1,\n",
    "    error_correction=qrcode.constants.ERROR_CORRECT_L,\n",
    "    box_size=10,\n",
    "    border=4,\n",
    ")\n",
    "qr.add_data(vcard)\n",
    "qr.make(fit=True)\n",
    "\n",
    "# Criando a imagem do QR code\n",
    "img = qr.make_image(fill_color=\"black\", back_color=\"white\")\n",
    "\n",
    "# Salvando a imagem do QR code em um arquivo\n",
    "img.save(\"qr_code_contato.png\")\n"
   ]
  },
  {
   "cell_type": "code",
   "execution_count": null,
   "id": "8526453d",
   "metadata": {},
   "outputs": [],
   "source": []
  }
 ],
 "metadata": {
  "kernelspec": {
   "display_name": "Python 3 (ipykernel)",
   "language": "python",
   "name": "python3"
  },
  "language_info": {
   "codemirror_mode": {
    "name": "ipython",
    "version": 3
   },
   "file_extension": ".py",
   "mimetype": "text/x-python",
   "name": "python",
   "nbconvert_exporter": "python",
   "pygments_lexer": "ipython3",
   "version": "3.11.5"
  }
 },
 "nbformat": 4,
 "nbformat_minor": 5
}
